{
 "cells": [
  {
   "cell_type": "code",
   "execution_count": 1,
   "id": "a59c60d9",
   "metadata": {},
   "outputs": [],
   "source": [
    "from googletrans import Translator"
   ]
  },
  {
   "cell_type": "code",
   "execution_count": 2,
   "id": "be21f51b",
   "metadata": {},
   "outputs": [],
   "source": [
    "translator = Translator()\n"
   ]
  },
  {
   "cell_type": "code",
   "execution_count": 13,
   "id": "85210963",
   "metadata": {},
   "outputs": [
    {
     "name": "stdout",
     "output_type": "stream",
     "text": [
      "Translated(src=en, dest=es, text=vidrio, pronunciation=None, extra_data=\"{'confiden...\")\n"
     ]
    }
   ],
   "source": [
    "print(translator.translate('glass',src = 'en',dest = 'es'))"
   ]
  },
  {
   "cell_type": "code",
   "execution_count": 11,
   "id": "4b653837",
   "metadata": {},
   "outputs": [
    {
     "name": "stdout",
     "output_type": "stream",
     "text": [
      "Translated(src=es, dest=en, text=little cat, pronunciation=None, extra_data=\"{'confiden...\")\n"
     ]
    }
   ],
   "source": [
    "print(translator.translate('gatito ',src = 'es',dest = 'en'))"
   ]
  },
  {
   "cell_type": "code",
   "execution_count": 20,
   "id": "94e8190e",
   "metadata": {},
   "outputs": [],
   "source": [
    "#Función que te traduce una palabra de español a inglés\n",
    "def traducir_es_to_en(palabra):\n",
    "    return translator.translate(palabra,src = 'es',dest = 'en').text"
   ]
  },
  {
   "cell_type": "code",
   "execution_count": 21,
   "id": "d7612ce1",
   "metadata": {},
   "outputs": [
    {
     "name": "stdout",
     "output_type": "stream",
     "text": [
      "cat\n"
     ]
    }
   ],
   "source": [
    "#Pruebas para la función de arriba \n",
    "print(traducir_es_to_en(\"gato\"))"
   ]
  },
  {
   "cell_type": "code",
   "execution_count": 24,
   "id": "2dc26ff0",
   "metadata": {},
   "outputs": [],
   "source": [
    "#Función que te traduce una palabra de inglés a español\n",
    "def traducir_en_to_es(palabra):\n",
    "    return translator.translate(palabra,src = 'en',dest = 'es').text"
   ]
  },
  {
   "cell_type": "code",
   "execution_count": 25,
   "id": "c18c7bac",
   "metadata": {},
   "outputs": [
    {
     "name": "stdout",
     "output_type": "stream",
     "text": [
      "restaurante\n"
     ]
    }
   ],
   "source": [
    "#Pruebas para la función de arriba \n",
    "print(traducir_en_to_es(\"restaurant\"))"
   ]
  },
  {
   "cell_type": "code",
   "execution_count": null,
   "id": "793ef986",
   "metadata": {},
   "outputs": [],
   "source": []
  }
 ],
 "metadata": {
  "kernelspec": {
   "display_name": "Python 3 (ipykernel)",
   "language": "python",
   "name": "python3"
  },
  "language_info": {
   "codemirror_mode": {
    "name": "ipython",
    "version": 3
   },
   "file_extension": ".py",
   "mimetype": "text/x-python",
   "name": "python",
   "nbconvert_exporter": "python",
   "pygments_lexer": "ipython3",
   "version": "3.9.13"
  }
 },
 "nbformat": 4,
 "nbformat_minor": 5
}
