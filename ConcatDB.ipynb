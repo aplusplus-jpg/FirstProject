{
 "cells": [
  {
   "cell_type": "code",
   "execution_count": null,
   "id": "9f8468f0",
   "metadata": {},
   "outputs": [],
   "source": [
    "import pandas as pd"
   ]
  },
  {
   "cell_type": "code",
   "execution_count": null,
   "id": "8ecb5620",
   "metadata": {},
   "outputs": [],
   "source": [
    "df = pd.read_csv('Final_Data_Hackathon_2022.csv')"
   ]
  },
  {
   "cell_type": "code",
   "execution_count": null,
   "id": "600efaad",
   "metadata": {},
   "outputs": [],
   "source": [
    "df.head()"
   ]
  },
  {
   "cell_type": "code",
   "execution_count": null,
   "id": "29e930e0",
   "metadata": {},
   "outputs": [],
   "source": [
    "df['DirComp'] = (df['Direccion1'].fillna('') + ' ' + df['Direccion2'].fillna('') + ' ' + df['Direccion3'].fillna('') + ' ' + df['Colonia'].fillna('') + ' ' + df['MunicipioDel'].fillna('') + ' ' + df['CP'].astype(str).fillna('') + ' ' + df['Estado'].fillna(''))"
   ]
  },
  {
   "cell_type": "code",
   "execution_count": null,
   "id": "672d389c",
   "metadata": {},
   "outputs": [],
   "source": [
    "df2 = df[['Index','NombComp','DirComp','EntreCalle1','EntreCalle2']]"
   ]
  },
  {
   "cell_type": "code",
   "execution_count": null,
   "id": "4ae71812",
   "metadata": {
    "scrolled": false
   },
   "outputs": [],
   "source": [
    "df2 = df2.replace('[^a-zA-Z0-9 ]', '', regex = True)"
   ]
  },
  {
   "cell_type": "code",
   "execution_count": null,
   "id": "9d76673b",
   "metadata": {},
   "outputs": [],
   "source": [
    "df2"
   ]
  },
  {
   "cell_type": "code",
   "execution_count": null,
   "id": "4a40c9dd",
   "metadata": {},
   "outputs": [],
   "source": [
    "Direccion = ['Direccion1','Direccion2','Direccion3','Colonia','MunicipioDel','CP']"
   ]
  },
  {
   "cell_type": "code",
   "execution_count": null,
   "id": "8cbbcd16",
   "metadata": {},
   "outputs": [],
   "source": [
    "def concat(lista):\n",
    "    Nombre = (\" \".join(lista))\n",
    "    return Nombre"
   ]
  },
  {
   "cell_type": "code",
   "execution_count": null,
   "id": "05b51934",
   "metadata": {},
   "outputs": [],
   "source": [
    "concat(Direccion)"
   ]
  },
  {
   "cell_type": "code",
   "execution_count": null,
   "id": "3dfe1475",
   "metadata": {},
   "outputs": [],
   "source": [
    "df2"
   ]
  },
  {
   "cell_type": "code",
   "execution_count": null,
   "id": "b273d449",
   "metadata": {},
   "outputs": [],
   "source": [
    "pip install openpyxl"
   ]
  },
  {
   "cell_type": "code",
   "execution_count": null,
   "id": "d306ee92",
   "metadata": {},
   "outputs": [],
   "source": [
    "writer = ExcelWriter('base_limpia.xlsx')\n",
    "df.to_excel(writer, 'Hoja de datos', index=False)\n",
    "writer.save()"
   ]
  },
  {
   "cell_type": "code",
   "execution_count": null,
   "id": "61f31f71",
   "metadata": {},
   "outputs": [],
   "source": []
  }
 ],
 "metadata": {
  "kernelspec": {
   "display_name": "Python 3",
   "language": "python",
   "name": "python3"
  },
  "language_info": {
   "codemirror_mode": {
    "name": "ipython",
    "version": 3
   },
   "file_extension": ".py",
   "mimetype": "text/x-python",
   "name": "python",
   "nbconvert_exporter": "python",
   "pygments_lexer": "ipython3",
   "version": "3.8.8"
  }
 },
 "nbformat": 4,
 "nbformat_minor": 5
}
